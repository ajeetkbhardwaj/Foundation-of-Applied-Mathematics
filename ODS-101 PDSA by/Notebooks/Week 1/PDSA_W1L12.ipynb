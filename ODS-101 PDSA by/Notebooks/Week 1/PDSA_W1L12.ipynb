{
  "nbformat": 4,
  "nbformat_minor": 0,
  "metadata": {
    "colab": {
      "name": "PDSA_W1L12.ipynb",
      "provenance": [],
      "include_colab_link": true
    },
    "kernelspec": {
      "name": "python3",
      "display_name": "Python 3"
    },
    "language_info": {
      "name": "python"
    }
  },
  "cells": [
    {
      "cell_type": "markdown",
      "metadata": {
        "id": "view-in-github",
        "colab_type": "text"
      },
      "source": [
        "<a href=\"https://colab.research.google.com/github/ajeetkbhardwaj/_-_Online-Degree-Specialization/blob/main/ODS-101%20PDSA%20by/Notebooks/Week%201/PDSA_W1L12.ipynb\" target=\"_parent\"><img src=\"https://colab.research.google.com/assets/colab-badge.svg\" alt=\"Open In Colab\"/></a>"
      ]
    },
    {
      "cell_type": "markdown",
      "metadata": {
        "id": "ZXLcENNeXQDr"
      },
      "source": [
        "### GCD using naive algorithm"
      ]
    },
    {
      "cell_type": "code",
      "metadata": {
        "id": "OqxzlNbcXUHi"
      },
      "source": [
        "def gcd(m, n):\n",
        "  common_factors = []\n",
        "\n",
        "  for i in range(1, min(m, n) + 1):\n",
        "    if m % i == 0 and n % i == 0:\n",
        "      common_factors.append(i)\n",
        "\n",
        "  return common_factors[-1]"
      ],
      "execution_count": 1,
      "outputs": []
    },
    {
      "cell_type": "code",
      "source": [
        "gcd(98,651)"
      ],
      "metadata": {
        "id": "kGAGmTZ0RYXa",
        "outputId": "7bb9fa74-e376-4e06-a7b5-c699c0c672bc",
        "colab": {
          "base_uri": "https://localhost:8080/"
        }
      },
      "execution_count": 7,
      "outputs": [
        {
          "output_type": "execute_result",
          "data": {
            "text/plain": [
              "7"
            ]
          },
          "metadata": {},
          "execution_count": 7
        }
      ]
    },
    {
      "cell_type": "markdown",
      "metadata": {
        "id": "oFkj3vbzZYfS"
      },
      "source": [
        "### Recursive GCD using m - n"
      ]
    },
    {
      "cell_type": "code",
      "metadata": {
        "id": "eLK3R0LKZarh"
      },
      "source": [
        "def gcd(m, n):\n",
        "  a, b = max(m, n), min(m, n)\n",
        "\n",
        "  if a % b == 0:\n",
        "    return b\n",
        "\n",
        "  return gcd(b, a - b)"
      ],
      "execution_count": 3,
      "outputs": []
    },
    {
      "cell_type": "code",
      "metadata": {
        "colab": {
          "base_uri": "https://localhost:8080/"
        },
        "id": "5akDwjB6Zpba",
        "outputId": "e53f3cd2-f55a-4b4f-b5a9-93bc691d7b31"
      },
      "source": [
        "gcd(2, 999999992)"
      ],
      "execution_count": 4,
      "outputs": [
        {
          "output_type": "execute_result",
          "data": {
            "text/plain": [
              "2"
            ]
          },
          "metadata": {},
          "execution_count": 4
        }
      ]
    },
    {
      "cell_type": "markdown",
      "metadata": {
        "id": "z7bTy08eZ2Yj"
      },
      "source": [
        "### Euclid's algorithm"
      ]
    },
    {
      "cell_type": "code",
      "metadata": {
        "id": "RR9A2VtiZ5K6"
      },
      "source": [
        "def gcd(m, n):\n",
        "  a, b = max(m, n), min(m, n)\n",
        "\n",
        "  if a % b == 0:\n",
        "    return b\n",
        "\n",
        "  return gcd(b, a % b)"
      ],
      "execution_count": 5,
      "outputs": []
    },
    {
      "cell_type": "code",
      "source": [
        "gcd(52525,28828280)"
      ],
      "metadata": {
        "id": "ilpoZb1TPjnW",
        "outputId": "3ad8cb98-a93f-42a8-d17b-25ff49898a40",
        "colab": {
          "base_uri": "https://localhost:8080/"
        }
      },
      "execution_count": 6,
      "outputs": [
        {
          "output_type": "execute_result",
          "data": {
            "text/plain": [
              "5"
            ]
          },
          "metadata": {},
          "execution_count": 6
        }
      ]
    }
  ]
}