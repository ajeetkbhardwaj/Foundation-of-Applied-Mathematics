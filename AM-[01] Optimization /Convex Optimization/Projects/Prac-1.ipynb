{
 "cells": [
  {
   "cell_type": "markdown",
   "metadata": {},
   "source": [
    "# Lab-1 : Practical Application of Optimization\n",
    "1. [Least Square Method](https://colab.research.google.com/github/cvxpy/cvxpy/blob/master/examples/notebooks/WWW/least_squares.ipynb)\n",
    "2. [Linear Program](https://colab.research.google.com/github/cvxpy/cvxpy/blob/master/examples/notebooks/WWW/linear_program.ipynb)\n",
    "3. [Quadratic Program](https://colab.research.google.com/github/cvxpy/cvxpy/blob/master/examples/notebooks/WWW/quadratic_program.ipynb)\n",
    "4. [Second order cone program](https://colab.research.google.com/github/cvxpy/cvxpy/blob/master/examples/notebooks/WWW/socp.ipynb)\n",
    "5. [Semi-definite program](https://colab.research.google.com/github/cvxpy/cvxpy/blob/master/examples/notebooks/WWW/sdp.ipynb)\n",
    "6. [Mixed-integer quadratic program](https://colab.research.google.com/github/cvxpy/cvxpy/blob/master/examples/notebooks/WWW/mixed_integer_quadratic_program.ipynb)\n",
    "7. Control\n",
    "8. Portfolio Optimization\n",
    "9. Worst Case risk Analysis\n",
    "10. Model fitting\n",
    "11. Optimal advertising\n",
    "12. [Total variation in-painting](https://colab.research.google.com/github/cvxpy/cvxpy/blob/master/examples/notebooks/WWW/tv_inpainting.ipynb)"
   ]
  },
  {
   "cell_type": "markdown",
   "metadata": {},
   "source": [
    "Problem : Let $A \\in R^{m\\times n}$ and $b \\in R^m$. We want to find a vector $x\\in R^n$ s.t $Ax$ is closed to $b$. This closeness can be modeled as $l_2$norm square defined as \n",
    "$$l_2 = \n",
    "||Ax -b||_2^2 = \\sum_{i=1}^{m} (a_i^{T}x -b_i)$$\n",
    "\n",
    "Understand the problem on real dataset, Let we have a dataset of m users, each has n features. Each row of $a_i^T \\; of \\; A$ is features for the user $ith$ while corresponding entry $b_i\\; of \\; b$ is measurement that we want to predict from $a_i^T$ s.t $a_i^T x = \\hat\n",
    " b_i$\n",
    "\n",
    "Note that $\\hat b$ is not equal to $b$ thus there exist error in the prediction there for some how we needed to optimize our result.\n",
    "Now, transform it into optimization problem, because we needed to find the optimal solution by solving the optimization problem\n",
    "with objective function\n",
    "$$ minimize \\; ||Ax - b||_2^2$$\n",
    "\n",
    "Consider that $x^*$ is the optimal solution, thus $r = Ax^* -b$ is called as residual which is a vector quantity thus if $||r||_2 = 0$ then we say it perfectly fit the data."
   ]
  },
  {
   "cell_type": "code",
   "execution_count": 1,
   "metadata": {},
   "outputs": [],
   "source": [
    "import cvxpy as cp\n",
    "import numpy as np"
   ]
  },
  {
   "cell_type": "code",
   "execution_count": 2,
   "metadata": {},
   "outputs": [],
   "source": [
    "# Let's generate the synthetic dataset\n",
    "m = 20\n",
    "n = 15\n",
    "np.random.seed(1)\n",
    "A = np.random.randn(m, n)\n",
    "b = np.random.randn(m)"
   ]
  },
  {
   "cell_type": "code",
   "execution_count": 4,
   "metadata": {},
   "outputs": [],
   "source": [
    "# let's define the problem\n",
    "x = cp.Variable(n)\n",
    "cost = cp.sum_squares(A @ x -b)\n",
    "prob = cp.Problem(cp.Minimize(cost))\n",
    "# solve the problem\n",
    "optim_value = prob.solve()\n"
   ]
  },
  {
   "cell_type": "code",
   "execution_count": 5,
   "metadata": {},
   "outputs": [
    {
     "name": "stdout",
     "output_type": "stream",
     "text": [
      "Optimal Value :  7.005909828287485\n",
      "Optimal x value :  [ 0.17492418 -0.38102551  0.34732251  0.0173098  -0.0845784  -0.08134019\n",
      "  0.293119    0.27019762  0.17493179 -0.23953449  0.64097935 -0.41633637\n",
      "  0.12799688  0.1063942  -0.32158411]\n",
      "Norm of residual is : 2.6468679280023557\n"
     ]
    }
   ],
   "source": [
    "print(\"Optimal Value : \", optim_value)\n",
    "print(\"Optimal x value : \", x.value)\n",
    "print(\"Norm of residual is :\", cp.norm(A@x -b, p=2).value)"
   ]
  },
  {
   "cell_type": "markdown",
   "metadata": {},
   "source": [
    "### Linear Programming Problems\n",
    "A LPP is an optimization problem with a linear objective function and affine inequality constraints. The standard for of the LPP is \n",
    "$$ \n",
    "minimize \\;c^Tx \\newline\n",
    "\n",
    "subject \\; to \\; Ax \\le b\n",
    "$$\n",
    "\n",
    "Where $A \\in R^{m \\times n}, b \\in R^m \\; and \\; c \\in R^n$  are problem data that we collected and $x \\in R^n$ is the optimal variable and inequality constraint $Ax \\le b$."
   ]
  },
  {
   "cell_type": "markdown",
   "metadata": {},
   "source": [
    "\n",
    "For example, we might have $n$ different products, each constructed out of $m$ components. Each entry $A_{ij}$ is the amount of component $i$ required to build one unit of product $j$. Each entry $b_i$ is the total amount of component $i$ available. We lose $c_j$ for each unit of product $j$ ($c_j < 0$ indicates profit). Our goal then is to choose how many units of each product $j$ to make, $x_j$, in order to minimize loss without exceeding our budget for any component.\n",
    "\n",
    "In addition to a solution $x^\\star$, we obtain a dual solution $\\lambda^\\star$. A positive entry $\\lambda^\\star_i$ indicates that the constraint $a_i^Tx \\leq b_i$ holds with equality for $x^\\star$ and suggests that changing $b_i$ would change the optimal value."
   ]
  },
  {
   "cell_type": "code",
   "execution_count": 6,
   "metadata": {},
   "outputs": [],
   "source": [
    "# Generate a random non-trivial linear program.\n",
    "m = 15\n",
    "n = 10\n",
    "np.random.seed(1)\n",
    "s0 = np.random.randn(m)\n",
    "lamb0 = np.maximum(-s0, 0)\n",
    "s0 = np.maximum(s0, 0)\n",
    "x0 = np.random.randn(n)\n",
    "A = np.random.randn(m, n)\n",
    "b = A@x0 + s0\n",
    "c = -A.T@lamb0\n",
    "\n"
   ]
  },
  {
   "cell_type": "code",
   "execution_count": 7,
   "metadata": {},
   "outputs": [
    {
     "name": "stderr",
     "output_type": "stream",
     "text": [
      "c:\\Users\\sony.gosala\\.conda\\envs\\mne\\lib\\site-packages\\cvxpy\\reductions\\solvers\\solving_chain.py:336: FutureWarning: \n",
      "    Your problem is being solved with the ECOS solver by default. Starting in \n",
      "    CVXPY 1.5.0, Clarabel will be used as the default solver instead. To continue \n",
      "    using ECOS, specify the ECOS solver explicitly using the ``solver=cp.ECOS`` \n",
      "    argument to the ``problem.solve`` method.\n",
      "    \n",
      "  warnings.warn(ECOS_DEPRECATION_MSG, FutureWarning)\n"
     ]
    }
   ],
   "source": [
    "# Define and solve the CVXPY problem.\n",
    "x = cp.Variable(n)\n",
    "prob = cp.Problem(cp.Minimize(c.T@x),\n",
    "                 [A@x <= b])\n",
    "optim_value= prob.solve()\n"
   ]
  },
  {
   "cell_type": "code",
   "execution_count": 8,
   "metadata": {},
   "outputs": [
    {
     "name": "stdout",
     "output_type": "stream",
     "text": [
      "\n",
      "The optimal value is -15.220912605552863\n",
      "A solution x is\n",
      "[-1.10133381 -0.16360111 -0.89734939  0.03216603  0.6069123  -1.12687348\n",
      "  1.12967856  0.88176638  0.49075229  0.8984822 ]\n",
      "A dual solution is\n",
      "[6.98805172e-10 6.11756416e-01 5.28171747e-01 1.07296862e+00\n",
      " 3.93759300e-09 2.30153870e+00 4.25704434e-10 7.61206896e-01\n",
      " 8.36906030e-09 2.49370377e-01 1.30187120e-09 2.06014070e+00\n",
      " 3.22417207e-01 3.84054343e-01 1.59493839e-09]\n"
     ]
    }
   ],
   "source": [
    "\n",
    "# Print result.\n",
    "print(\"\\nThe optimal value is\", optim_value)\n",
    "print(\"A solution x is\")\n",
    "print(x.value)\n",
    "print(\"A dual solution is\")\n",
    "print(prob.constraints[0].dual_value)"
   ]
  },
  {
   "cell_type": "code",
   "execution_count": null,
   "metadata": {},
   "outputs": [],
   "source": []
  }
 ],
 "metadata": {
  "kernelspec": {
   "display_name": "mne",
   "language": "python",
   "name": "python3"
  },
  "language_info": {
   "codemirror_mode": {
    "name": "ipython",
    "version": 3
   },
   "file_extension": ".py",
   "mimetype": "text/x-python",
   "name": "python",
   "nbconvert_exporter": "python",
   "pygments_lexer": "ipython3",
   "version": "3.9.4"
  }
 },
 "nbformat": 4,
 "nbformat_minor": 2
}
