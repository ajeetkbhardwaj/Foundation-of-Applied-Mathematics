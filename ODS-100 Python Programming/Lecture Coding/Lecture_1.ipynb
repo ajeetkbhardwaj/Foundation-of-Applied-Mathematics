{
 "cells": [
  {
   "cell_type": "code",
   "execution_count": 5,
   "metadata": {},
   "outputs": [
    {
     "name": "stdout",
     "output_type": "stream",
     "text": [
      "Hello, World!\n",
      "Hello, World!\n",
      "India's capital is the New Delhi.\n",
      "1\n",
      "2.0\n",
      "1 3\n",
      "online offline study reading examination\n"
     ]
    }
   ],
   "source": [
    "print('Hello, World!')\n",
    "print(\"Hello, World!\")\n",
    "print(\"India's capital is the New Delhi.\")\n",
    "\n",
    "print(1)\n",
    "print(2.0)\n",
    "print(1, 3)\n",
    "print('online', 'offline', 'study', 'reading', 'examination')\n",
    "\n"
   ]
  },
  {
   "cell_type": "code",
   "execution_count": 2,
   "metadata": {},
   "outputs": [
    {
     "name": "stdout",
     "output_type": "stream",
     "text": [
      "\n"
     ]
    }
   ],
   "source": [
    "print()"
   ]
  },
  {
   "cell_type": "code",
   "execution_count": 3,
   "metadata": {},
   "outputs": [
    {
     "data": {
      "text/plain": [
       "<function print>"
      ]
     },
     "execution_count": 3,
     "metadata": {},
     "output_type": "execute_result"
    }
   ],
   "source": [
    "print"
   ]
  },
  {
   "cell_type": "code",
   "execution_count": 4,
   "metadata": {},
   "outputs": [
    {
     "ename": "SyntaxError",
     "evalue": "Missing parentheses in call to 'print'. Did you mean print('Hello, World!')? (<ipython-input-4-5fea38df3ff9>, line 1)",
     "output_type": "error",
     "traceback": [
      "\u001b[1;36m  File \u001b[1;32m\"<ipython-input-4-5fea38df3ff9>\"\u001b[1;36m, line \u001b[1;32m1\u001b[0m\n\u001b[1;33m    print 'Hello, World!'\u001b[0m\n\u001b[1;37m          ^\u001b[0m\n\u001b[1;31mSyntaxError\u001b[0m\u001b[1;31m:\u001b[0m Missing parentheses in call to 'print'. Did you mean print('Hello, World!')?\n"
     ]
    }
   ],
   "source": [
    "print 'Hello, World!'"
   ]
  },
  {
   "cell_type": "code",
   "execution_count": 1,
   "metadata": {},
   "outputs": [
    {
     "ename": "SyntaxError",
     "evalue": "(unicode error) 'unicodeescape' codec can't decode bytes in position 0-34: unknown Unicode character name (<ipython-input-1-227438abce12>, line 1)",
     "output_type": "error",
     "traceback": [
      "\u001b[1;36m  File \u001b[1;32m\"<ipython-input-1-227438abce12>\"\u001b[1;36m, line \u001b[1;32m1\u001b[0m\n\u001b[1;33m    print('\\N{smilling face with smiling eyes}')\u001b[0m\n\u001b[1;37m                                               ^\u001b[0m\n\u001b[1;31mSyntaxError\u001b[0m\u001b[1;31m:\u001b[0m (unicode error) 'unicodeescape' codec can't decode bytes in position 0-34: unknown Unicode character name\n"
     ]
    }
   ],
   "source": [
    "print('\\N{smilling face with smiling eyes}')"
   ]
  },
  {
   "cell_type": "code",
   "execution_count": null,
   "metadata": {},
   "outputs": [],
   "source": []
  },
  {
   "cell_type": "markdown",
   "metadata": {},
   "source": []
  },
  {
   "cell_type": "code",
   "execution_count": 6,
   "metadata": {},
   "outputs": [
    {
     "name": "stdout",
     "output_type": "stream",
     "text": [
      "1\n",
      "Algorithm + Data Struture = Program\n",
      "1234.94847\n",
      "2\n",
      "3\n",
      "2\n"
     ]
    }
   ],
   "source": [
    "x = 1\n",
    "print(x)\n",
    "y = 'Algorithm + Data Struture = Program'\n",
    "print(y)\n",
    "foo_bar = 1234.94847\n",
    "print(foo_bar)\n",
    "x = x + 1\n",
    "print(x)\n",
    "x += 1\n",
    "print(x)\n",
    "x -= 1\n",
    "print(x)"
   ]
  },
  {
   "cell_type": "code",
   "execution_count": 7,
   "metadata": {},
   "outputs": [
    {
     "name": "stdout",
     "output_type": "stream",
     "text": [
      "1\n",
      "29.09\n",
      "1.0\n",
      "float\n",
      "True\n"
     ]
    },
    {
     "data": {
      "text/plain": [
       "'Multiple line comments for our program'"
      ]
     },
     "execution_count": 7,
     "metadata": {},
     "output_type": "execute_result"
    }
   ],
   "source": [
    "# integer\n",
    "print(1)\n",
    "type(1)\n",
    "# float\n",
    "print(29.09)\n",
    "type(39.29)\n",
    "print(1.)\n",
    "type(1.)\n",
    "# string\n",
    "print('float')\n",
    "type('float')\n",
    "# boolean\n",
    "print(True)\n",
    "type(True)\n",
    "\n",
    "# Single line comment\n",
    "\"\"\"Multiple line comments for our program\"\"\"\n",
    "\n",
    "\n"
   ]
  },
  {
   "cell_type": "code",
   "execution_count": null,
   "metadata": {},
   "outputs": [],
   "source": []
  },
  {
   "cell_type": "markdown",
   "metadata": {},
   "source": [
    "### Module-2 :"
   ]
  },
  {
   "cell_type": "code",
   "execution_count": 13,
   "metadata": {},
   "outputs": [
    {
     "name": "stdout",
     "output_type": "stream",
     "text": [
      "14\n",
      "7\n",
      "390\n",
      "2.0\n",
      "3\n",
      "2\n",
      "False\n",
      "300\n",
      "100\n",
      "1717986918400000000000000000000000000000000000000000000000000000000000000000000\n",
      "-32\n",
      "23\n",
      "0\n"
     ]
    }
   ],
   "source": [
    "# Arithmetic operators\n",
    "x = 10 + 4\n",
    "print(x)\n",
    "x = 10 - 3\n",
    "print(x)\n",
    "x = 10 * 39\n",
    "print(x)\n",
    "x = 10 /5\n",
    "print(x)\n",
    "x = 10 // 3\n",
    "print(x)\n",
    "x = 20 % 3\n",
    "print(x)\n",
    "x = 100 ==390\n",
    "print(x)\n",
    "x = 100 and 300\n",
    "print(x)\n",
    "x = 100 or 300\n",
    "print(x)\n",
    "x = 200**34\n",
    "print(x)\n",
    "\n",
    "x = -32\n",
    "print(x)\n",
    "x = +23\n",
    "print(x)\n",
    "\n",
    "# Substraction\n",
    "x = 1 - 1\n",
    "print(x)\n"
   ]
  },
  {
   "cell_type": "code",
   "execution_count": 1,
   "metadata": {},
   "outputs": [
    {
     "name": "stdout",
     "output_type": "stream",
     "text": [
      "2\n",
      "2\n",
      "9259407600388\n",
      "85736629110123060297750544\n"
     ]
    }
   ],
   "source": [
    "x = 1 - - 1\n",
    "print(x)\n",
    "x = 1 + + 1\n",
    "print(x)\n",
    "x = 38839\n",
    "y = x*238404892\n",
    "print(y)\n",
    "y = y**2\n",
    "print(y)"
   ]
  },
  {
   "cell_type": "code",
   "execution_count": 3,
   "metadata": {},
   "outputs": [
    {
     "name": "stdout",
     "output_type": "stream",
     "text": [
      "False\n",
      "True\n",
      "False\n",
      "False\n"
     ]
    }
   ],
   "source": [
    "x = True and False\n",
    "print(x)\n",
    "x = False or True\n",
    "print(x)\n",
    "x = True\n",
    "y = not x\n",
    "print(y)\n",
    "y = not(x)\n",
    "print(y)"
   ]
  },
  {
   "cell_type": "code",
   "execution_count": 2,
   "metadata": {},
   "outputs": [
    {
     "name": "stdout",
     "output_type": "stream",
     "text": [
      "2\n",
      "2\n",
      "3\n",
      "3\n"
     ]
    }
   ],
   "source": [
    "print(1+1)\n",
    "print(1 + 1)\n",
    "\n",
    "x=3\n",
    "print(x)\n",
    "x = 3\n",
    "print(x)"
   ]
  },
  {
   "cell_type": "code",
   "execution_count": 7,
   "metadata": {},
   "outputs": [
    {
     "name": "stdout",
     "output_type": "stream",
     "text": [
      "<class 'int'> 3\n",
      "414.3\n",
      "<class 'float'> 414.3\n"
     ]
    }
   ],
   "source": [
    "x = 1 + 2\n",
    "print(type(x),x)\n",
    "x = 20.3 + 394\n",
    "print(type(x),x)"
   ]
  }
 ],
 "metadata": {
  "kernelspec": {
   "display_name": "Python 3.9.0 64-bit",
   "language": "python",
   "name": "python3"
  },
  "language_info": {
   "codemirror_mode": {
    "name": "ipython",
    "version": 3
   },
   "file_extension": ".py",
   "mimetype": "text/x-python",
   "name": "python",
   "nbconvert_exporter": "python",
   "pygments_lexer": "ipython3",
   "version": "3.9.0"
  },
  "orig_nbformat": 4,
  "vscode": {
   "interpreter": {
    "hash": "0ca1e21494f276abde72cf2fd50c05de29708bdad043165f85cc051039448ce0"
   }
  }
 },
 "nbformat": 4,
 "nbformat_minor": 2
}
