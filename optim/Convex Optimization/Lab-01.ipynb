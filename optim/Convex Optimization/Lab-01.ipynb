{
 "cells": [
  {
   "cell_type": "markdown",
   "metadata": {},
   "source": [
    "# Modeling Optimization Problems\n",
    "> The `cvxopt.modeling` used to define and solve the optimization problems with convex piecewise-linear objective and constraint functions.\n",
    "1. Define the Optimization Variable\n",
    "2. Specify the Objective and Constraint function using linear operations like vector addtion, multiplication, substraction or even matrix-vector multiplication, slicing and indexing etc."
   ]
  },
  {
   "cell_type": "markdown",
   "metadata": {},
   "source": [
    "## 1. Variables\n",
    "Optimization variables are represented by `variable` objects."
   ]
  },
  {
   "cell_type": "code",
   "execution_count": 20,
   "metadata": {},
   "outputs": [],
   "source": [
    "from cvxopt import matrix, normal, uniform\n",
    "from cvxopt.modeling import variable, max\n",
    "from cvxopt.modeling import variable, op, dot, max, sum\n",
    "import pylab"
   ]
  },
  {
   "cell_type": "code",
   "execution_count": 3,
   "metadata": {},
   "outputs": [
    {
     "data": {
      "text/plain": [
       "3"
      ]
     },
     "execution_count": 3,
     "metadata": {},
     "output_type": "execute_result"
    }
   ],
   "source": [
    "x = variable(3,'a')\n",
    "len(x)"
   ]
  },
  {
   "cell_type": "code",
   "execution_count": 9,
   "metadata": {},
   "outputs": [
    {
     "name": "stdout",
     "output_type": "stream",
     "text": [
      "a\n",
      "[ 1.00e+00]\n",
      "[ 9.90e+00]\n",
      "[ 3.40e+00]\n",
      "\n",
      "[ 1.00e+00]\n",
      "[ 9.90e+00]\n",
      "[ 3.40e+00]\n",
      "\n",
      "[ 1.00e+00]\n",
      "[ 1.00e+00]\n",
      "[ 1.00e+00]\n",
      "\n"
     ]
    }
   ],
   "source": [
    "# the first argument is the dimension of the vector\n",
    "# The name of the variable.\n",
    "print(x.name)\n",
    "print(x.value)\n",
    "x.value = matrix([1.0, 9.9, 3.4])\n",
    "print(x.value)\n",
    "x.value = 1\n",
    "print(x.value)\n"
   ]
  },
  {
   "cell_type": "markdown",
   "metadata": {},
   "source": [
    "## 2. Functions\n",
    "Objective and constraint functions can be defined via overloaded operations on variables and other functions. A function f is interpreted as a column vector, with length len(f) and with a value that depends on the values of its variables. Functions have two public attributes.\n",
    "1. Variable\n",
    "2. Value\n",
    "\n",
    "Three types of functions are supported: affine, convex piecewise-linear, and concave piecewise-linear.\n",
    "\n",
    "Affine functions represent vector valued functions of the form\n",
    "\n",
    "$$f(x_1,\\ldots,x_n) = A_1 x_1 + \\cdots + A_n x_n + b.$$\n",
    "\n",
    "The coefficients can be scalars or dense or sparse matrices. The constant term is a scalar or a column vector.\n",
    "\n",
    "On Affine function we can perform following operations\n",
    "1. Unary Operations like +x where x is variable.\n",
    "2. Addition and Substraction \n",
    "3. Multiplication\n",
    "4. Inner Product\n",
    "\n",
    "**Problem-1**\n",
    "Consider the variable x and y of length 1 and 2 resp. The functions f and g are given by \n",
    "$$f(x,y) = \\left[ \\begin{array}{c} 2 \\\\ 2 \\end{array}\\right] x\n",
    "    + y + \\left[ \\begin{array}{c} 3 \\\\ 3 \\end{array}\\right], \\\\\n",
    "g(x,y) =\n",
    "    \\left[ \\begin{array}{cc} 1 & 3 \\\\ 2 & 4 \\end{array}\\right] f(x,y) +\n",
    "    \\left[ \\begin{array}{cc} 1 & 1 \\\\ 1 & 1 \\end{array} \\right] y +\n",
    "    \\left[ \\begin{array}{c} 1 \\\\ -1 \\end{array} \\right] \\\\\n",
    "       = \\left[ \\begin{array}{c} 8 \\\\ 12 \\end{array}\\right] x +\n",
    "   \\left[ \\begin{array}{cc} 2 & 4 \\\\ 3 & 5 \\end{array}\\right] y +\n",
    "   \\left[ \\begin{array}{c} 13 \\\\ 17\\end{array}\\right].$$\n"
   ]
  },
  {
   "cell_type": "code",
   "execution_count": 10,
   "metadata": {},
   "outputs": [
    {
     "name": "stdout",
     "output_type": "stream",
     "text": [
      "affine function of length 2\n",
      "constant term:\n",
      "[ 1.30e+01]\n",
      "[ 1.70e+01]\n",
      "linear term: linear function of length 2\n",
      "coefficient of variable(1,'x'):\n",
      "[ 8.00e+00]\n",
      "[ 1.20e+01]\n",
      "coefficient of variable(2,'y'):\n",
      "[ 2.00e+00  4.00e+00]\n",
      "[ 3.00e+00  5.00e+00]\n",
      "\n"
     ]
    }
   ],
   "source": [
    "x = variable(1,'x')\n",
    "y = variable(2,'y')\n",
    "f = 2*x + y + 3\n",
    "A = matrix([[1., 2.], [3.,4.]])\n",
    "b = matrix([1.,-1.])\n",
    "g = A*f + sum(y) + b\n",
    "print(g)"
   ]
  },
  {
   "cell_type": "code",
   "execution_count": 11,
   "metadata": {},
   "outputs": [
    {
     "name": "stdout",
     "output_type": "stream",
     "text": [
      "linear function of length 2\n",
      "linear term: linear function of length 2\n",
      "coefficient of variable(4,'x'):\n",
      "[ 1.00e+00     0         0         0    ]\n",
      "[    0         0      1.00e+00     0    ]\n",
      "\n"
     ]
    }
   ],
   "source": [
    "#inplace operations\n",
    "# an affine function f the operations f += u and f -= u, with u a constant,\n",
    "x = variable(4,'x')\n",
    "f = x[::2]\n",
    "print(f)"
   ]
  },
  {
   "cell_type": "code",
   "execution_count": 12,
   "metadata": {},
   "outputs": [
    {
     "name": "stdout",
     "output_type": "stream",
     "text": [
      "affine function of length 1\n",
      "constant term:\n",
      "[ 2.00e+00]\n",
      "linear term: linear function of length 1\n",
      "coefficient of variable(4,'x'):\n",
      "[ 2.00e+00  8.00e+00  1.40e+01  2.00e+01]\n",
      "coefficient of variable(3,'x'):\n",
      "[-3.00e+00     0     -3.00e+00]\n",
      "\n"
     ]
    }
   ],
   "source": [
    "# indexing and slicing operation\n",
    "y = variable(3,'x')\n",
    "g = matrix(range(12),(3,4),'d')*x - 3*y + 1\n",
    "print(g[0] + g[2])"
   ]
  },
  {
   "cell_type": "markdown",
   "metadata": {},
   "source": [
    "The general expression of a convex piecewise-linear function is\n",
    "\n",
    "$$f(x_1,\\ldots,x_n) = b + A_1 x_1 + \\cdots + A_n x_n +\n",
    "    \\sum_{k=1}^K \\max (y_1, y_2, \\ldots, y_{m_k}).$$\n",
    "\n",
    "The maximum in this expression is a componentwise maximum of its vector arguments, which can be constant vectors, variables, affine functions or convex piecewise-linear functions. The general expression for a concave piecewise-linear function is\n",
    "\n",
    "$$f(x_1,\\ldots,x_n) = b + A_1 x_1 + \\cdots + A_n x_n +\n",
    "    \\sum_{k=1}^K \\min (y_1, y_2, \\ldots, y_{m_k}).$$\n",
    "\n",
    "Here the arguments of the min can be constants, variables, affine functions or concave piecewise-linear functions.\n",
    "\n",
    "Piecewise-linear functions can be created using the following operations.\n",
    "1. Maximum\n",
    "2. Minimum\n",
    "3. Absolute Value\n",
    "4. Unary plus and minus\n",
    "5. Addition and Substraction\n",
    "6. Multiplication\n",
    "7. Indexing and Slicing\n",
    "8. In-place Operation\n",
    "\n",
    "**Problem-2 :**\n",
    "Let f is a 1-norm of vector variable x of length 10 and g is it's infinity norm  and h is the function as \n",
    "$$h(x) = \\sum_k \\phi(x[k]), \\qquad\n",
    "\\phi(u) = \\left\\{\\begin{array}{ll}\n",
    "    0       & |u| \\leq 1 \\\\\n",
    "    |u|-1   & 1 \\leq |u| \\leq 2 \\\\\n",
    "    2|u|-3  & |u| \\geq 2.\n",
    "\\end{array}\\right.$$"
   ]
  },
  {
   "cell_type": "code",
   "execution_count": 15,
   "metadata": {},
   "outputs": [
    {
     "data": {
      "text/plain": [
       "<convex function of length 1>"
      ]
     },
     "metadata": {},
     "output_type": "display_data"
    },
    {
     "data": {
      "text/plain": [
       "<convex function of length 1>"
      ]
     },
     "metadata": {},
     "output_type": "display_data"
    },
    {
     "data": {
      "text/plain": [
       "<convex function of length 1>"
      ]
     },
     "metadata": {},
     "output_type": "display_data"
    }
   ],
   "source": [
    "x = variable(10, 'x')\n",
    "f = sum(abs(x))\n",
    "g = max(abs(x))\n",
    "h = sum(max(0, abs(x)-1, 2*abs(x)-3))\n",
    "display(f, g, h)"
   ]
  },
  {
   "cell_type": "markdown",
   "metadata": {},
   "source": [
    "## 3. Constaints\n",
    "Linear equality and inequality constraints of the form\n",
    "\n",
    "$f(x_1,\\ldots,x_n) = 0, \\qquad f(x_1,\\ldots,x_n) \\preceq  0,$\n",
    "\n",
    "where f is a convex function, are represented by constraint objects. Equality constraints are created by expressions of the form\n",
    "`f1 == f2,\n",
    "f1 <= f2 and \n",
    "f2 >= f1\n",
    "`\n",
    "\n",
    "Problem-3 : Create the three constraints as given\n",
    "$\\newcommand{\\ones}{{\\bf 1}}\n",
    "0 \\preceq x \\preceq \\ones, \\qquad \\ones^T x = 2,$ for a variable of lenght 5.\n"
   ]
  },
  {
   "cell_type": "code",
   "execution_count": 17,
   "metadata": {},
   "outputs": [
    {
     "data": {
      "text/plain": [
       "<inequality in R^5>"
      ]
     },
     "metadata": {},
     "output_type": "display_data"
    },
    {
     "data": {
      "text/plain": [
       "<inequality in R^5>"
      ]
     },
     "metadata": {},
     "output_type": "display_data"
    },
    {
     "data": {
      "text/plain": [
       "<scalar equality>"
      ]
     },
     "metadata": {},
     "output_type": "display_data"
    },
    {
     "data": {
      "text/plain": [
       "5"
      ]
     },
     "metadata": {},
     "output_type": "display_data"
    },
    {
     "data": {
      "text/plain": [
       "5"
      ]
     },
     "metadata": {},
     "output_type": "display_data"
    },
    {
     "data": {
      "text/plain": [
       "1"
      ]
     },
     "metadata": {},
     "output_type": "display_data"
    }
   ],
   "source": [
    "x = variable(5, 'x')\n",
    "c1 = (x <= 1)\n",
    "c2 = (x >= 0)\n",
    "c3 = (sum(x) == 2)\n",
    "# len returns the dimension of the constraints\n",
    "l1= len(c1)\n",
    "l2 = len(c2)\n",
    "l3 = len(c3)\n",
    "\n",
    "display(c1, c2, c3)\n",
    "display(l1, l2, l3)"
   ]
  },
  {
   "cell_type": "code",
   "execution_count": 19,
   "metadata": {},
   "outputs": [
    {
     "data": {
      "text/plain": [
       "<bound method constraint.type of <inequality in R^5>>"
      ]
     },
     "metadata": {},
     "output_type": "display_data"
    },
    {
     "data": {
      "text/plain": [
       "<bound method constraint.value of <inequality in R^5>>"
      ]
     },
     "metadata": {},
     "output_type": "display_data"
    },
    {
     "data": {
      "text/plain": [
       "variable(5,'_mul')"
      ]
     },
     "metadata": {},
     "output_type": "display_data"
    },
    {
     "data": {
      "text/plain": [
       "''"
      ]
     },
     "metadata": {},
     "output_type": "display_data"
    }
   ],
   "source": [
    "display(c1.type, c1.value, c1.multiplier, c1.name)\n",
    "# 1.Returns '=' if the constraint is an equality constraint, and ‘<’ if the constraint is an inequality constraint.\n",
    "# 2. Returns the value of the constraint function.\n",
    "# 3. . It is used to represent the Lagrange multiplier or dual variable associated with the constraint.\n",
    "# 4. The name of the constraint. Changing the name of a constraint also changes the name of the multiplier of c"
   ]
  },
  {
   "cell_type": "markdown",
   "metadata": {},
   "source": [
    "## 4. Optimization Problems\n",
    "Optimization problems are be constructed by calling the function : `cvxopt.modeling.op([objective[, constraints[, name]]])`\n",
    "`\n",
    "1. `op.objective`\n",
    "2. `op.variables()`\n",
    "3. `op.constaints()`\n",
    "4. `op.inequalities()`\n",
    "5. `op.equalities()`\n",
    "6. `op.delconstaints(c)`\n",
    "7. `op.addconstaint(c)`\n",
    "8. `op.solve([format[, solver]])`\n",
    "\n",
    "**Problem-4 :**\n",
    "solve the LP\n",
    "\n",
    "\n"
   ]
  },
  {
   "cell_type": "code",
   "execution_count": 21,
   "metadata": {},
   "outputs": [
    {
     "name": "stdout",
     "output_type": "stream",
     "text": [
      "     pcost       dcost       gap    pres   dres   k/t\n",
      " 0: -8.1000e+00 -1.8300e+01  4e+00  0e+00  8e-01  1e+00\n",
      " 1: -8.8055e+00 -9.4357e+00  2e-01  1e-16  4e-02  3e-02\n",
      " 2: -8.9981e+00 -9.0049e+00  2e-03  4e-16  5e-04  4e-04\n",
      " 3: -9.0000e+00 -9.0000e+00  2e-05  1e-16  5e-06  4e-06\n",
      " 4: -9.0000e+00 -9.0000e+00  2e-07  1e-16  5e-08  4e-08\n",
      "Optimal solution found.\n",
      "optimal\n"
     ]
    }
   ],
   "source": [
    "x = variable()\n",
    "y = variable()\n",
    "c1 = (2*x + y <= 3)\n",
    "c2 = (x + 2*y <= 3)\n",
    "c3 = (x >= 0)\n",
    "c4 = (y >= 0)\n",
    "lp1 = op(-4*x-5*y, [c1, c2, c3, c4])\n",
    "lp1.solve()\n",
    "print(lp1.status)"
   ]
  },
  {
   "cell_type": "code",
   "execution_count": 29,
   "metadata": {},
   "outputs": [
    {
     "name": "stdout",
     "output_type": "stream",
     "text": [
      "linear function of length 1\n",
      "linear term: linear function of length 1\n",
      "coefficient of variable(1,''):\n",
      "[-4.00e+00]\n",
      "coefficient of variable(1,''):\n",
      "[-5.00e+00]\n",
      "\n",
      "<bound method op.constraints of <optimization problem with 2 variables, 4 inequality and 0 equality constraint(s)>>\n",
      "<bound method op.variables of <optimization problem with 2 variables, 4 inequality and 0 equality constraint(s)>>\n",
      "<bound method op.inequalities of <optimization problem with 2 variables, 4 inequality and 0 equality constraint(s)>>\n",
      "<bound method op.solve of <optimization problem with 2 variables, 4 inequality and 0 equality constraint(s)>>\n"
     ]
    }
   ],
   "source": [
    "print(lp1.objective)\n",
    "print(lp1.constraints)\n",
    "print(lp1.variables)\n",
    "\n",
    "print(lp1.inequalities)\n",
    "print(lp1.solve)"
   ]
  },
  {
   "cell_type": "code",
   "execution_count": null,
   "metadata": {},
   "outputs": [],
   "source": []
  }
 ],
 "metadata": {
  "kernelspec": {
   "display_name": "mne",
   "language": "python",
   "name": "python3"
  },
  "language_info": {
   "codemirror_mode": {
    "name": "ipython",
    "version": 3
   },
   "file_extension": ".py",
   "mimetype": "text/x-python",
   "name": "python",
   "nbconvert_exporter": "python",
   "pygments_lexer": "ipython3",
   "version": "3.9.4"
  }
 },
 "nbformat": 4,
 "nbformat_minor": 2
}
